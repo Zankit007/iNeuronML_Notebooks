{
 "cells": [
  {
   "cell_type": "markdown",
   "metadata": {},
   "source": [
    "## Assignment 4"
   ]
  },
  {
   "cell_type": "markdown",
   "metadata": {},
   "source": [
    "#### 1.1 Write a Python Program(with class concepts) to find the area of the triangle using the belowformula.\n",
    "area = (s*(s-a)*(s-b)*(s-c)) ** 0.5\n",
    "\n",
    "Function to take the length of the sides of triangle from user should be defined in the parent\n",
    "class and function to calculate the area should be defined in subclass."
   ]
  },
  {
   "cell_type": "code",
   "execution_count": 1,
   "metadata": {},
   "outputs": [],
   "source": [
    "class sides_of_triangle:\n",
    "    def __init__(self):\n",
    "        \n",
    "        \"\"\"This takes three sides of triangle as inputs\"\"\"\n",
    "        self.a = float(input(\"Enter value for first side in cm: \"))\n",
    "        self.b = float(input(\"Enter value for second side in cm: \"))\n",
    "        self.c = float(input(\"Enter value for third side cm: \"))\n",
    "    \n",
    "class area_of_triangle(sides_of_triangle):\n",
    "    \n",
    "    \"\"\"This takes the inputs from class sides_of_triangle and calulates area\"\"\"\n",
    "    def __init__(self):\n",
    "        sides_of_triangle.__init__(self)\n",
    "    \n",
    "        self.s = (self.a + self.b + self.c) / 2\n",
    "        self.area = (self.s*(self.s - self.a)*(self.s - self.b)*(self.s - self.c)) **0.5\n",
    "             \n",
    "    def __str__(self):\n",
    "        return(\"The three sides of triangle are %s, %s and %s and its area is %f\"%\\\n",
    "               (self.a, self.b, self.c, self.area))"
   ]
  },
  {
   "cell_type": "code",
   "execution_count": 2,
   "metadata": {},
   "outputs": [
    {
     "name": "stdin",
     "output_type": "stream",
     "text": [
      "Enter value for first side in cm:  12\n",
      "Enter value for second side in cm:  15\n",
      "Enter value for third side cm:  20\n"
     ]
    },
    {
     "name": "stdout",
     "output_type": "stream",
     "text": [
      "The three sides of triangle are 12.0, 15.0 and 20.0 and its area is 89.665699\n"
     ]
    }
   ],
   "source": [
    "a = area_of_triangle()\n",
    "print(a)"
   ]
  },
  {
   "cell_type": "markdown",
   "metadata": {},
   "source": [
    "#### 1.2 Write a function filter_long_words() that takes a list of words and an integer n and returns the list of words that are longer than n"
   ]
  },
  {
   "cell_type": "code",
   "execution_count": 69,
   "metadata": {},
   "outputs": [],
   "source": [
    "#Entering inputs in the function\n",
    "\n",
    "def filter_long_words(words, integer):\n",
    "    words_list = []\n",
    "    for i in range(len(words)):\n",
    "        if len(words[i]) > integer:\n",
    "            words_list.append(words[i])\n",
    "    return words_list"
   ]
  },
  {
   "cell_type": "code",
   "execution_count": 70,
   "metadata": {},
   "outputs": [
    {
     "data": {
      "text/plain": [
       "['Jane']"
      ]
     },
     "execution_count": 70,
     "metadata": {},
     "output_type": "execute_result"
    }
   ],
   "source": [
    "filter_long_words(['Jane','Doe'], 3)"
   ]
  },
  {
   "cell_type": "code",
   "execution_count": 71,
   "metadata": {},
   "outputs": [],
   "source": [
    "# Using inputs from user\n",
    "\n",
    "def filter_long_words_2():\n",
    "    words = input(\"Enter a list of words seperated by space: \").split()\n",
    "    count  = int(input(\"Enter the number of words to filter: \"))\n",
    "    words_list_2 = []\n",
    "    \n",
    "    for i in range(len(words)):\n",
    "        if len(words[i]) > count:\n",
    "            words_list_2.append(words[i])\n",
    "    return words_list_2"
   ]
  },
  {
   "cell_type": "code",
   "execution_count": 72,
   "metadata": {},
   "outputs": [
    {
     "name": "stdin",
     "output_type": "stream",
     "text": [
      "Enter a list of words seperated by space:  Jane Doe\n",
      "Enter the number of words to filter:  3\n"
     ]
    },
    {
     "data": {
      "text/plain": [
       "['Jane']"
      ]
     },
     "execution_count": 72,
     "metadata": {},
     "output_type": "execute_result"
    }
   ],
   "source": [
    "filter_long_words_2()"
   ]
  },
  {
   "cell_type": "markdown",
   "metadata": {},
   "source": [
    "#### 2.1 Write a Python program using function concept that maps list of words into a list of integers representing the lengths of the corresponding words.\n",
    "Hint: If a list [ ab,cde,erty] is passed on to the python function output should come as [2,3,4] Here 2,3 and 4 are the lengths of the words in the list"
   ]
  },
  {
   "cell_type": "code",
   "execution_count": 77,
   "metadata": {},
   "outputs": [],
   "source": [
    "def word_length(lst):\n",
    "    num_list = []\n",
    "    print(\"Input list is: \", lst)\n",
    "    \n",
    "    for i in range(len(lst)):\n",
    "        num_list.append(len(lst[i]))\n",
    "    return print(\"Length of each element of list is: \", num_list)"
   ]
  },
  {
   "cell_type": "code",
   "execution_count": 78,
   "metadata": {},
   "outputs": [
    {
     "name": "stdout",
     "output_type": "stream",
     "text": [
      "Input list is:  ['a', 'abc', 'abcd']\n",
      "Length of each element of list is:  [1, 3, 4]\n"
     ]
    }
   ],
   "source": [
    "word_length(['a', 'abc', 'abcd'])"
   ]
  },
  {
   "cell_type": "markdown",
   "metadata": {},
   "source": [
    "#### 2.2 Write a Python function which takes a character (i.e. a string of length 1) and returns True if it is a vowel, False otherwise."
   ]
  },
  {
   "cell_type": "code",
   "execution_count": 64,
   "metadata": {},
   "outputs": [],
   "source": [
    "def is_vowel(alphabet):\n",
    "    \n",
    "    \"\"\"Takes character of length 1 and returns True if it is a vowel, False otherwise\"\"\"\n",
    "    vowel = ('a', 'e', 'i', 'o', 'u')\n",
    "    if alphabet in vowel:\n",
    "        return True\n",
    "    else:\n",
    "        return False"
   ]
  },
  {
   "cell_type": "code",
   "execution_count": 65,
   "metadata": {},
   "outputs": [
    {
     "name": "stdout",
     "output_type": "stream",
     "text": [
      "False\n",
      "True\n"
     ]
    }
   ],
   "source": [
    "print(is_vowel('z'))\n",
    "print(is_vowel('a'))"
   ]
  }
 ],
 "metadata": {
  "kernelspec": {
   "display_name": "Python 3",
   "language": "python",
   "name": "python3"
  },
  "language_info": {
   "codemirror_mode": {
    "name": "ipython",
    "version": 3
   },
   "file_extension": ".py",
   "mimetype": "text/x-python",
   "name": "python",
   "nbconvert_exporter": "python",
   "pygments_lexer": "ipython3",
   "version": "3.7.3"
  }
 },
 "nbformat": 4,
 "nbformat_minor": 4
}
